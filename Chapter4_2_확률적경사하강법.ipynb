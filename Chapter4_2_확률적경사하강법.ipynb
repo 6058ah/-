{
  "nbformat": 4,
  "nbformat_minor": 0,
  "metadata": {
    "colab": {
      "name": "Chapter4-2_확률적경사하강법.ipynb",
      "provenance": [],
      "collapsed_sections": [],
      "authorship_tag": "ABX9TyNXHeWQc/ludayDQKUSg9t1",
      "include_colab_link": true
    },
    "kernelspec": {
      "name": "python3",
      "display_name": "Python 3"
    }
  },
  "cells": [
    {
      "cell_type": "markdown",
      "metadata": {
        "id": "view-in-github",
        "colab_type": "text"
      },
      "source": [
        "<a href=\"https://colab.research.google.com/github/6058ah/DataScienceStudy/blob/master/Chapter4_2_%ED%99%95%EB%A5%A0%EC%A0%81%EA%B2%BD%EC%82%AC%ED%95%98%EA%B0%95%EB%B2%95.ipynb\" target=\"_parent\"><img src=\"https://colab.research.google.com/assets/colab-badge.svg\" alt=\"Open In Colab\"/></a>"
      ]
    },
    {
      "cell_type": "markdown",
      "metadata": {
        "id": "AY6gy9Yml1vA"
      },
      "source": [
        "#확률적 경사 하강법확률적 경사 하강법\r\n",
        "\r\n",
        "##점진적인 학습법\r\n",
        "####전체 샘플을 사용하지 않고 딱 하나의 샘플을 훈련 세트에서 랜덤하게 골라 가장 가파른 길을 찾음\r\n",
        "####훈련 세트에서 랜덤하게 하나의 샘플을 고르는 것이 확률적 경사 하강법\r\n",
        "####에포크 : 확률적 경사 하강법에서 훈련 세트를 한번 모두 사용하는 과정\r\n",
        "#### 일반적으로 경사 하강법은 수십, 수백 번 이상 에포크를 수행\r\n",
        "\r\n",
        "###미니배치 경사 하강법 : 여러 개의 샘플을 사용해 경사 하강법을 수행하는 방식\r\n",
        "###배치 경사 하강법 : 극단적으로 한 번 경사로를 따라 이동하기 위해 전체 샘플을 사용\r\n",
        "\r\n",
        "\r\n",
        "\r\n"
      ]
    },
    {
      "cell_type": "markdown",
      "metadata": {
        "id": "GllOtIi0Awrf"
      },
      "source": [
        "## 손실함수\r\n",
        "####샘플 하나에 대한 손실을 정의\r\n",
        "####산의 경사면은 연속적이어야 함\r\n",
        "#### 기술적으로 말하면 손실함수는 미분 가능해야 함"
      ]
    },
    {
      "cell_type": "markdown",
      "metadata": {
        "id": "BsYeBB54EPb6"
      },
      "source": [
        "## 로지스틱 손실 함수\r\n"
      ]
    },
    {
      "cell_type": "code",
      "metadata": {
        "id": "PBlYQZ86kkWx"
      },
      "source": [
        "import pandas as pd\r\n",
        "fish = pd.read_csv('http://bit.ly/fish_csv')"
      ],
      "execution_count": 1,
      "outputs": []
    },
    {
      "cell_type": "code",
      "metadata": {
        "id": "n450naSNJbB8"
      },
      "source": [
        "fish_input = fish[['Weight','Length','Diagonal','Height','Width']].to_numpy()\r\n",
        "fish_target = fish['Species'].to_numpy()"
      ],
      "execution_count": 2,
      "outputs": []
    },
    {
      "cell_type": "code",
      "metadata": {
        "id": "AXgidpSoJz4U"
      },
      "source": [
        "from sklearn.model_selection import train_test_split\r\n",
        "train_input, test_input, train_target, test_target = train_test_split(fish_input, fish_target, random_state = 42)"
      ],
      "execution_count": 3,
      "outputs": []
    },
    {
      "cell_type": "code",
      "metadata": {
        "id": "QbJZ7_SaKJgW"
      },
      "source": [
        "from sklearn.preprocessing import StandardScaler\r\n",
        "ss = StandardScaler()\r\n",
        "ss.fit(train_input)\r\n",
        "train_scaled = ss.transform(train_input)\r\n",
        "test_scaled = ss.transform(test_input)"
      ],
      "execution_count": 4,
      "outputs": []
    },
    {
      "cell_type": "code",
      "metadata": {
        "id": "8gzIyPShTPrE"
      },
      "source": [
        "from sklearn.linear_model import SGDClassifier"
      ],
      "execution_count": 5,
      "outputs": []
    },
    {
      "cell_type": "code",
      "metadata": {
        "colab": {
          "base_uri": "https://localhost:8080/"
        },
        "id": "iRwa4knUTYKy",
        "outputId": "34edb372-430d-442f-cc0e-b8e907f2a8b5"
      },
      "source": [
        "sc = SGDClassifier(loss='log',max_iter=10,random_state=42)\r\n",
        "sc.fit(train_scaled,train_target)\r\n",
        "print(sc.score(train_scaled,train_target))\r\n",
        "print(sc.score(test_scaled,test_target))"
      ],
      "execution_count": 6,
      "outputs": [
        {
          "output_type": "stream",
          "text": [
            "0.773109243697479\n",
            "0.775\n"
          ],
          "name": "stdout"
        },
        {
          "output_type": "stream",
          "text": [
            "/usr/local/lib/python3.7/dist-packages/sklearn/linear_model/_stochastic_gradient.py:557: ConvergenceWarning: Maximum number of iteration reached before convergence. Consider increasing max_iter to improve the fit.\n",
            "  ConvergenceWarning)\n"
          ],
          "name": "stderr"
        }
      ]
    },
    {
      "cell_type": "code",
      "metadata": {
        "colab": {
          "base_uri": "https://localhost:8080/"
        },
        "id": "_yFgn8ueTpj6",
        "outputId": "ac4b1e56-2fa3-465d-a511-fe6626ac8a80"
      },
      "source": [
        "sc.partial_fit(train_scaled, train_target)\r\n",
        "print(sc.score(train_scaled,train_target))\r\n",
        "print(sc.score(test_scaled,test_target))"
      ],
      "execution_count": 7,
      "outputs": [
        {
          "output_type": "stream",
          "text": [
            "0.8151260504201681\n",
            "0.825\n"
          ],
          "name": "stdout"
        }
      ]
    },
    {
      "cell_type": "markdown",
      "metadata": {
        "id": "2VCZp2v_YqdQ"
      },
      "source": [
        "##에포크와 과대/과소적합\r\n",
        "####적은 에포크 횟수 동안에 훈련한 모델은 훈련 세트와 테스트 세트에 잘 맞지 않는 과소적합된 모델일 가능성이 높음\r\n",
        "####에포크 횟수 동안에 훈련한 모델은 훈련 세트에 너무 잘 맞아 테스트 세트에는 오히려 점수가 나쁜 과대적합된 모델일 가능성 높음\r\n",
        "####훈련 세트 점수는 에포크가 진행될수록 꾸준히 증가하지만 테스트 세트 점수는 어느 순간 감소하기 시작\r\n",
        "####이 지점이 모델이 과대적합되기 시작하는 곳\r\n",
        "####과대적합이 시작하기 전에 훈련을 멈추는 것 => 조기종료"
      ]
    },
    {
      "cell_type": "code",
      "metadata": {
        "id": "dvCsuKmkamap"
      },
      "source": [
        "import numpy as np\r\n",
        "sc = SGDClassifier(loss='log',random_state=42)\r\n",
        "train_score = []\r\n",
        "test_score = []\r\n",
        "classes = np.unique(train_target)"
      ],
      "execution_count": 8,
      "outputs": []
    },
    {
      "cell_type": "code",
      "metadata": {
        "id": "FEfHD-xoZ-Kp"
      },
      "source": [
        "for _ in range(0,300):\r\n",
        "  sc.partial_fit(train_scaled,train_target,classes=classes)\r\n",
        "  train_score.append(sc.score(train_scaled,train_target))\r\n",
        "  test_score.append(sc.score(test_scaled,test_target))"
      ],
      "execution_count": 10,
      "outputs": []
    },
    {
      "cell_type": "code",
      "metadata": {
        "colab": {
          "base_uri": "https://localhost:8080/",
          "height": 279
        },
        "id": "BcO7ZdNiaZlx",
        "outputId": "70c5948f-88f8-4dc5-d3d4-e60e40bf5870"
      },
      "source": [
        "import matplotlib.pyplot as plt\r\n",
        "plt.plot(train_score)\r\n",
        "plt.plot(test_score)\r\n",
        "plt.xlabel('epoch')\r\n",
        "plt.ylabel('accuracy')\r\n",
        "plt.show()"
      ],
      "execution_count": 11,
      "outputs": [
        {
          "output_type": "display_data",
          "data": {
            "image/png": "[encoded data removed]",
            "text/plain": [
              "<Figure size 432x288 with 1 Axes>"
            ]
          },
          "metadata": {
            "tags": [],
            "needs_background": "light"
          }
        }
      ]
    },
    {
      "cell_type": "code",
      "metadata": {
        "colab": {
          "base_uri": "https://localhost:8080/"
        },
        "id": "nnywfDu-awqK",
        "outputId": "b04f024a-0184-42d7-e674-f0f1c4fe457c"
      },
      "source": [
        "sc= SGDClassifier(loss='log',max_iter=100,tol=None,random_state=42)\r\n",
        "sc.fit(train_scaled,train_target)"
      ],
      "execution_count": 12,
      "outputs": [
        {
          "output_type": "execute_result",
          "data": {
            "text/plain": [
              "SGDClassifier(alpha=0.0001, average=False, class_weight=None,\n",
              "              early_stopping=False, epsilon=0.1, eta0=0.0, fit_intercept=True,\n",
              "              l1_ratio=0.15, learning_rate='optimal', loss='log', max_iter=100,\n",
              "              n_iter_no_change=5, n_jobs=None, penalty='l2', power_t=0.5,\n",
              "              random_state=42, shuffle=True, tol=None, validation_fraction=0.1,\n",
              "              verbose=0, warm_start=False)"
            ]
          },
          "metadata": {
            "tags": []
          },
          "execution_count": 12
        }
      ]
    },
    {
      "cell_type": "code",
      "metadata": {
        "colab": {
          "base_uri": "https://localhost:8080/"
        },
        "id": "Gm8gBiFJbLZ0",
        "outputId": "5328f791-8728-4e27-a83b-1dd2fcc53371"
      },
      "source": [
        "print(sc.score(train_scaled, train_target))\r\n",
        "print(sc.score(test_scaled, test_target))"
      ],
      "execution_count": 14,
      "outputs": [
        {
          "output_type": "stream",
          "text": [
            "0.957983193277311\n",
            "0.925\n"
          ],
          "name": "stdout"
        }
      ]
    },
    {
      "cell_type": "code",
      "metadata": {
        "colab": {
          "base_uri": "https://localhost:8080/"
        },
        "id": "suPbCF95bw1U",
        "outputId": "4feb9c98-2b76-4536-f0bf-6da8aaf9c903"
      },
      "source": [
        "sc = SGDClassifier(loss='hinge',max_iter=100,tol=None,random_state=42)\r\n",
        "sc.fit(train_scaled,train_target)\r\n",
        "print(sc.score(train_scaled,train_target))\r\n",
        "print(sc.score(test_scaled,test_target))"
      ],
      "execution_count": 15,
      "outputs": [
        {
          "output_type": "stream",
          "text": [
            "0.9495798319327731\n",
            "0.925\n"
          ],
          "name": "stdout"
        }
      ]
    },
    {
      "cell_type": "code",
      "metadata": {
        "id": "x9z7kHrVcV-z"
      },
      "source": [
        ""
      ],
      "execution_count": null,
      "outputs": []
    }
  ]
}